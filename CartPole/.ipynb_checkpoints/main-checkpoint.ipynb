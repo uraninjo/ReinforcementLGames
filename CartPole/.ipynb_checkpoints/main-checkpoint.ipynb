{
 "cells": [
  {
   "cell_type": "markdown",
   "metadata": {},
   "source": [
    "1. Kurulum"
   ]
  },
  {
   "cell_type": "code",
   "execution_count": 1,
   "metadata": {},
   "outputs": [
    {
     "name": "stderr",
     "output_type": "stream",
     "text": [
      "ERROR: Could not find a version that satisfies the requirement tensorflow==2.3.0 (from versions: 2.5.0rc0, 2.5.0rc1, 2.5.0rc2, 2.5.0rc3, 2.5.0, 2.5.1, 2.5.2, 2.6.0rc0, 2.6.0rc1, 2.6.0rc2, 2.6.0, 2.6.1, 2.6.2, 2.7.0rc0, 2.7.0rc1, 2.7.0, 2.8.0rc0)\n",
      "ERROR: No matching distribution found for tensorflow==2.3.0\n"
     ]
    },
    {
     "name": "stdout",
     "output_type": "stream",
     "text": [
      "Collecting gym\n",
      "  Using cached gym-0.21.0-py3-none-any.whl\n",
      "Collecting cloudpickle>=1.2.0\n",
      "  Using cached cloudpickle-2.0.0-py3-none-any.whl (25 kB)\n",
      "Collecting numpy>=1.18.0\n",
      "  Using cached numpy-1.22.1-cp39-cp39-win_amd64.whl (14.7 MB)\n",
      "Installing collected packages: numpy, cloudpickle, gym\n",
      "Successfully installed cloudpickle-2.0.0 gym-0.21.0 numpy-1.22.1\n",
      "Collecting keras\n",
      "  Using cached keras-2.7.0-py2.py3-none-any.whl (1.3 MB)\n",
      "Installing collected packages: keras\n",
      "Successfully installed keras-2.7.0\n"
     ]
    }
   ],
   "source": [
    "!pip install tensorflow\n",
    "!pip install gym\n",
    "!pip install keras"
   ]
  },
  {
   "cell_type": "code",
   "execution_count": 2,
   "metadata": {},
   "outputs": [
    {
     "name": "stdout",
     "output_type": "stream",
     "text": [
      "Collecting keras_rl2\n",
      "  Using cached keras_rl2-1.0.5-py3-none-any.whl (52 kB)\n",
      "Collecting tensorflow\n",
      "  Using cached tensorflow-2.7.0-cp39-cp39-win_amd64.whl (430.8 MB)\n",
      "Collecting wrapt>=1.11.0\n",
      "  Using cached wrapt-1.13.3-cp39-cp39-win_amd64.whl (34 kB)\n",
      "Requirement already satisfied: keras<2.8,>=2.7.0rc0 in c:\\users\\mehmu\\pycharmprojects\\pythonproject\\python\\reinforcementlearning\\cartpole\\cartpole\\lib\\site-packages (from tensorflow->keras_rl2) (2.7.0)\n",
      "Collecting gast<0.5.0,>=0.2.1\n",
      "  Using cached gast-0.4.0-py3-none-any.whl (9.8 kB)\n",
      "Collecting tensorflow-estimator<2.8,~=2.7.0rc0\n",
      "  Using cached tensorflow_estimator-2.7.0-py2.py3-none-any.whl (463 kB)\n",
      "Collecting libclang>=9.0.1\n",
      "  Using cached libclang-12.0.0-2-py2.py3-none-win_amd64.whl (13.0 MB)\n",
      "Requirement already satisfied: numpy>=1.14.5 in c:\\users\\mehmu\\pycharmprojects\\pythonproject\\python\\reinforcementlearning\\cartpole\\cartpole\\lib\\site-packages (from tensorflow->keras_rl2) (1.22.1)\n",
      "Collecting h5py>=2.9.0\n",
      "  Using cached h5py-3.6.0-cp39-cp39-win_amd64.whl (2.8 MB)\n",
      "Collecting astunparse>=1.6.0\n",
      "  Using cached astunparse-1.6.3-py2.py3-none-any.whl (12 kB)\n",
      "Collecting wheel<1.0,>=0.32.0\n",
      "  Downloading wheel-0.37.1-py2.py3-none-any.whl (35 kB)\n",
      "Collecting protobuf>=3.9.2\n",
      "  Using cached protobuf-3.19.3-cp39-cp39-win_amd64.whl (895 kB)\n",
      "Requirement already satisfied: typing-extensions>=3.6.6 in c:\\users\\mehmu\\pycharmprojects\\pythonproject\\python\\reinforcementlearning\\cartpole\\cartpole\\lib\\site-packages (from tensorflow->keras_rl2) (4.0.1)\n",
      "Collecting tensorboard~=2.6\n",
      "  Using cached tensorboard-2.8.0-py3-none-any.whl (5.8 MB)\n",
      "Collecting opt-einsum>=2.3.2\n",
      "  Using cached opt_einsum-3.3.0-py3-none-any.whl (65 kB)\n",
      "Collecting flatbuffers<3.0,>=1.12\n",
      "  Using cached flatbuffers-2.0-py2.py3-none-any.whl (26 kB)\n",
      "Collecting tensorflow-io-gcs-filesystem>=0.21.0\n",
      "  Using cached tensorflow_io_gcs_filesystem-0.23.1-cp39-cp39-win_amd64.whl (1.5 MB)\n",
      "Collecting google-pasta>=0.1.1\n",
      "  Using cached google_pasta-0.2.0-py3-none-any.whl (57 kB)\n",
      "Collecting keras-preprocessing>=1.1.1\n",
      "  Using cached Keras_Preprocessing-1.1.2-py2.py3-none-any.whl (42 kB)\n",
      "Collecting termcolor>=1.1.0\n",
      "  Using cached termcolor-1.1.0-py3-none-any.whl\n",
      "Collecting grpcio<2.0,>=1.24.3\n",
      "  Using cached grpcio-1.43.0-cp39-cp39-win_amd64.whl (3.4 MB)\n",
      "Requirement already satisfied: six>=1.12.0 in c:\\users\\mehmu\\pycharmprojects\\pythonproject\\python\\reinforcementlearning\\cartpole\\cartpole\\lib\\site-packages (from tensorflow->keras_rl2) (1.16.0)\n",
      "Collecting absl-py>=0.4.0\n",
      "  Using cached absl_py-1.0.0-py3-none-any.whl (126 kB)\n",
      "Collecting tensorboard-plugin-wit>=1.6.0\n",
      "  Using cached tensorboard_plugin_wit-1.8.1-py3-none-any.whl (781 kB)\n",
      "Requirement already satisfied: setuptools>=41.0.0 in c:\\users\\mehmu\\pycharmprojects\\pythonproject\\python\\reinforcementlearning\\cartpole\\cartpole\\lib\\site-packages (from tensorboard~=2.6->tensorflow->keras_rl2) (56.0.0)\n",
      "Collecting tensorboard-data-server<0.7.0,>=0.6.0\n",
      "  Using cached tensorboard_data_server-0.6.1-py3-none-any.whl (2.4 kB)\n",
      "Collecting werkzeug>=0.11.15\n",
      "  Using cached Werkzeug-2.0.2-py3-none-any.whl (288 kB)\n",
      "Collecting google-auth<3,>=1.6.3\n",
      "  Using cached google_auth-2.3.3-py2.py3-none-any.whl (155 kB)\n",
      "Collecting google-auth-oauthlib<0.5,>=0.4.1\n",
      "  Using cached google_auth_oauthlib-0.4.6-py2.py3-none-any.whl (18 kB)\n",
      "Collecting requests<3,>=2.21.0\n",
      "  Using cached requests-2.27.1-py2.py3-none-any.whl (63 kB)\n",
      "Collecting markdown>=2.6.8\n",
      "  Using cached Markdown-3.3.6-py3-none-any.whl (97 kB)\n",
      "Collecting pyasn1-modules>=0.2.1\n",
      "  Using cached pyasn1_modules-0.2.8-py2.py3-none-any.whl (155 kB)\n",
      "Collecting rsa<5,>=3.1.4\n",
      "  Using cached rsa-4.8-py3-none-any.whl (39 kB)\n",
      "Collecting cachetools<5.0,>=2.0.0\n",
      "  Using cached cachetools-4.2.4-py3-none-any.whl (10 kB)\n",
      "Collecting requests-oauthlib>=0.7.0\n",
      "  Using cached requests_oauthlib-1.3.0-py2.py3-none-any.whl (23 kB)\n",
      "Collecting importlib-metadata>=4.4\n",
      "  Using cached importlib_metadata-4.10.1-py3-none-any.whl (17 kB)\n",
      "Collecting certifi>=2017.4.17\n",
      "  Using cached certifi-2021.10.8-py2.py3-none-any.whl (149 kB)\n",
      "Collecting urllib3<1.27,>=1.21.1\n",
      "  Using cached urllib3-1.26.8-py2.py3-none-any.whl (138 kB)\n",
      "Collecting charset-normalizer~=2.0.0\n",
      "  Using cached charset_normalizer-2.0.10-py3-none-any.whl (39 kB)\n",
      "Collecting idna<4,>=2.5\n",
      "  Using cached idna-3.3-py3-none-any.whl (61 kB)\n",
      "Collecting zipp>=0.5\n",
      "  Using cached zipp-3.7.0-py3-none-any.whl (5.3 kB)\n",
      "Collecting pyasn1<0.5.0,>=0.4.6\n",
      "  Using cached pyasn1-0.4.8-py2.py3-none-any.whl (77 kB)\n",
      "Collecting oauthlib>=3.0.0\n",
      "  Using cached oauthlib-3.1.1-py2.py3-none-any.whl (146 kB)\n",
      "Installing collected packages: urllib3, pyasn1, idna, charset-normalizer, certifi, zipp, rsa, requests, pyasn1-modules, oauthlib, cachetools, requests-oauthlib, importlib-metadata, google-auth, wheel, werkzeug, tensorboard-plugin-wit, tensorboard-data-server, protobuf, markdown, grpcio, google-auth-oauthlib, absl-py, wrapt, termcolor, tensorflow-io-gcs-filesystem, tensorflow-estimator, tensorboard, opt-einsum, libclang, keras-preprocessing, h5py, google-pasta, gast, flatbuffers, astunparse, tensorflow, keras-rl2\n",
      "Successfully installed absl-py-1.0.0 astunparse-1.6.3 cachetools-4.2.4 certifi-2021.10.8 charset-normalizer-2.0.10 flatbuffers-2.0 gast-0.4.0 google-auth-2.3.3 google-auth-oauthlib-0.4.6 google-pasta-0.2.0 grpcio-1.43.0 h5py-3.6.0 idna-3.3 importlib-metadata-4.10.1 keras-preprocessing-1.1.2 keras-rl2-1.0.5 libclang-12.0.0 markdown-3.3.6 oauthlib-3.1.1 opt-einsum-3.3.0 protobuf-3.19.3 pyasn1-0.4.8 pyasn1-modules-0.2.8 requests-2.27.1 requests-oauthlib-1.3.0 rsa-4.8 tensorboard-2.8.0 tensorboard-data-server-0.6.1 tensorboard-plugin-wit-1.8.1 tensorflow-2.7.0 tensorflow-estimator-2.7.0 tensorflow-io-gcs-filesystem-0.23.1 termcolor-1.1.0 urllib3-1.26.8 werkzeug-2.0.2 wheel-0.37.1 wrapt-1.13.3 zipp-3.7.0\n"
     ]
    }
   ],
   "source": [
    "!pip install keras_rl2\n"
   ]
  },
  {
   "cell_type": "code",
   "execution_count": 3,
   "metadata": {},
   "outputs": [
    {
     "name": "stdout",
     "output_type": "stream",
     "text": [
      "Requirement already satisfied: gym[all] in c:\\users\\mehmu\\pycharmprojects\\pythonproject\\python\\reinforcementlearning\\cartpole\\cartpole\\lib\\site-packages (0.21.0)\n",
      "Requirement already satisfied: numpy>=1.18.0 in c:\\users\\mehmu\\pycharmprojects\\pythonproject\\python\\reinforcementlearning\\cartpole\\cartpole\\lib\\site-packages (from gym[all]) (1.22.1)\n",
      "Requirement already satisfied: cloudpickle>=1.2.0 in c:\\users\\mehmu\\pycharmprojects\\pythonproject\\python\\reinforcementlearning\\cartpole\\cartpole\\lib\\site-packages (from gym[all]) (2.0.0)\n",
      "Collecting lz4>=3.1.0\n",
      "  Using cached lz4-3.1.10-cp39-cp39-win_amd64.whl\n",
      "Collecting ale-py~=0.7.1\n",
      "  Using cached ale_py-0.7.3-cp39-cp39-win_amd64.whl (926 kB)\n",
      "Collecting box2d-py==2.3.5\n",
      "  Using cached box2d-py-2.3.5.tar.gz (374 kB)\n",
      "  Preparing metadata (setup.py): started\n",
      "  Preparing metadata (setup.py): finished with status 'done'\n",
      "Collecting pyglet>=1.4.0\n",
      "  Using cached pyglet-1.5.21-py3-none-any.whl (1.1 MB)\n",
      "Collecting scipy>=1.4.1\n",
      "  Downloading scipy-1.7.3-cp39-cp39-win_amd64.whl (34.3 MB)\n",
      "Collecting opencv-python>=3.\n",
      "  Downloading opencv_python-4.5.5.62-cp36-abi3-win_amd64.whl (35.4 MB)\n",
      "Collecting mujoco-py<2.0,>=1.50\n",
      "  Using cached mujoco-py-1.50.1.68.tar.gz (120 kB)\n",
      "  Preparing metadata (setup.py): started\n",
      "  Preparing metadata (setup.py): finished with status 'done'\n",
      "Collecting importlib-resources\n",
      "  Using cached importlib_resources-5.4.0-py3-none-any.whl (28 kB)\n",
      "Collecting glfw>=1.4.0\n",
      "  Using cached glfw-2.5.0-py2.py27.py3.py30.py31.py32.py33.py34.py35.py36.py37.py38-none-win_amd64.whl (491 kB)\n",
      "Collecting Cython>=0.27.2\n",
      "  Downloading Cython-0.29.26-py2.py3-none-any.whl (983 kB)\n",
      "Collecting imageio>=2.1.2\n",
      "  Downloading imageio-2.14.0-py3-none-any.whl (3.3 MB)\n",
      "Collecting cffi>=1.10\n",
      "  Using cached cffi-1.15.0-cp39-cp39-win_amd64.whl (180 kB)\n",
      "Collecting lockfile>=0.12.2\n",
      "  Using cached lockfile-0.12.2-py2.py3-none-any.whl (13 kB)\n",
      "Collecting pycparser\n",
      "  Downloading pycparser-2.21-py2.py3-none-any.whl (118 kB)\n",
      "Collecting pillow>=8.3.2\n",
      "  Downloading Pillow-9.0.0-cp39-cp39-win_amd64.whl (3.2 MB)\n",
      "Requirement already satisfied: zipp>=3.1.0 in c:\\users\\mehmu\\pycharmprojects\\pythonproject\\python\\reinforcementlearning\\cartpole\\cartpole\\lib\\site-packages (from importlib-resources->ale-py~=0.7.1->gym[all]) (3.7.0)\n",
      "Building wheels for collected packages: box2d-py, mujoco-py\n",
      "  Building wheel for box2d-py (setup.py): started\n",
      "  Building wheel for box2d-py (setup.py): finished with status 'error'\n",
      "  Running setup.py clean for box2d-py\n",
      "  Building wheel for mujoco-py (setup.py): started\n",
      "  Building wheel for mujoco-py (setup.py): finished with status 'error'\n",
      "  Running setup.py clean for mujoco-py\n",
      "Failed to build box2d-py mujoco-py\n",
      "Installing collected packages: pycparser, pillow, lockfile, importlib-resources, imageio, glfw, Cython, cffi, scipy, pyglet, opencv-python, mujoco-py, lz4, box2d-py, ale-py\n",
      "    Running setup.py install for mujoco-py: started\n",
      "    Running setup.py install for mujoco-py: finished with status 'error'\n"
     ]
    },
    {
     "name": "stderr",
     "output_type": "stream",
     "text": [
      "  ERROR: Command errored out with exit status 1:\n",
      "   command: 'c:\\users\\mehmu\\pycharmprojects\\pythonproject\\python\\reinforcementlearning\\cartpole\\cartpole\\scripts\\python.exe' -u -c 'import io, os, sys, setuptools, tokenize; sys.argv[0] = '\"'\"'C:\\\\Users\\\\mehmu\\\\AppData\\\\Local\\\\Temp\\\\pip-install-y106ttrt\\\\box2d-py_468035cd5c6d4d34a37056b05e5b21ee\\\\setup.py'\"'\"'; __file__='\"'\"'C:\\\\Users\\\\mehmu\\\\AppData\\\\Local\\\\Temp\\\\pip-install-y106ttrt\\\\box2d-py_468035cd5c6d4d34a37056b05e5b21ee\\\\setup.py'\"'\"';f = getattr(tokenize, '\"'\"'open'\"'\"', open)(__file__) if os.path.exists(__file__) else io.StringIO('\"'\"'from setuptools import setup; setup()'\"'\"');code = f.read().replace('\"'\"'\\r\\n'\"'\"', '\"'\"'\\n'\"'\"');f.close();exec(compile(code, __file__, '\"'\"'exec'\"'\"'))' bdist_wheel -d 'C:\\Users\\mehmu\\AppData\\Local\\Temp\\pip-wheel-drsclgqg'\n",
      "       cwd: C:\\Users\\mehmu\\AppData\\Local\\Temp\\pip-install-y106ttrt\\box2d-py_468035cd5c6d4d34a37056b05e5b21ee\\\n",
      "  Complete output (16 lines):\n",
      "  Using setuptools (version 56.0.0).\n",
      "  running bdist_wheel\n",
      "  running build\n",
      "  running build_py\n",
      "  creating build\n",
      "  creating build\\lib.win-amd64-3.9\n",
      "  creating build\\lib.win-amd64-3.9\\Box2D\n",
      "  copying library\\Box2D\\Box2D.py -> build\\lib.win-amd64-3.9\\Box2D\n",
      "  copying library\\Box2D\\__init__.py -> build\\lib.win-amd64-3.9\\Box2D\n",
      "  creating build\\lib.win-amd64-3.9\\Box2D\\b2\n",
      "  copying library\\Box2D\\b2\\__init__.py -> build\\lib.win-amd64-3.9\\Box2D\\b2\n",
      "  running build_ext\n",
      "  building 'Box2D._Box2D' extension\n",
      "  swigging Box2D\\Box2D.i to Box2D\\Box2D_wrap.cpp\n",
      "  swig.exe -python -c++ -IBox2D -small -O -includeall -ignoremissing -w201 -globals b2Globals -outdir library\\Box2D -keyword -w511 -D_SWIG_KWARGS -o Box2D\\Box2D_wrap.cpp Box2D\\Box2D.i\n",
      "  error: command 'swig.exe' failed: None\n",
      "  ----------------------------------------\n",
      "  ERROR: Failed building wheel for box2d-py\n",
      "  ERROR: Command errored out with exit status 1:\n",
      "   command: 'c:\\users\\mehmu\\pycharmprojects\\pythonproject\\python\\reinforcementlearning\\cartpole\\cartpole\\scripts\\python.exe' -u -c 'import io, os, sys, setuptools, tokenize; sys.argv[0] = '\"'\"'C:\\\\Users\\\\mehmu\\\\AppData\\\\Local\\\\Temp\\\\pip-install-y106ttrt\\\\mujoco-py_feb197c283d344ffb313e1a3c32dd39c\\\\setup.py'\"'\"'; __file__='\"'\"'C:\\\\Users\\\\mehmu\\\\AppData\\\\Local\\\\Temp\\\\pip-install-y106ttrt\\\\mujoco-py_feb197c283d344ffb313e1a3c32dd39c\\\\setup.py'\"'\"';f = getattr(tokenize, '\"'\"'open'\"'\"', open)(__file__) if os.path.exists(__file__) else io.StringIO('\"'\"'from setuptools import setup; setup()'\"'\"');code = f.read().replace('\"'\"'\\r\\n'\"'\"', '\"'\"'\\n'\"'\"');f.close();exec(compile(code, __file__, '\"'\"'exec'\"'\"'))' bdist_wheel -d 'C:\\Users\\mehmu\\AppData\\Local\\Temp\\pip-wheel-dzr59e6p'\n",
      "       cwd: C:\\Users\\mehmu\\AppData\\Local\\Temp\\pip-install-y106ttrt\\mujoco-py_feb197c283d344ffb313e1a3c32dd39c\\\n",
      "  Complete output (27 lines):\n",
      "  running bdist_wheel\n",
      "  running build\n",
      "  Traceback (most recent call last):\n",
      "    File \"<string>\", line 1, in <module>\n",
      "    File \"C:\\Users\\mehmu\\AppData\\Local\\Temp\\pip-install-y106ttrt\\mujoco-py_feb197c283d344ffb313e1a3c32dd39c\\setup.py\", line 32, in <module>\n",
      "      setup(\n",
      "    File \"c:\\users\\mehmu\\pycharmprojects\\pythonproject\\python\\reinforcementlearning\\cartpole\\cartpole\\lib\\site-packages\\setuptools\\__init__.py\", line 153, in setup\n",
      "      return distutils.core.setup(**attrs)\n",
      "    File \"C:\\Users\\mehmu\\AppData\\Local\\Programs\\Python\\Python39\\lib\\distutils\\core.py\", line 148, in setup\n",
      "      dist.run_commands()\n",
      "    File \"C:\\Users\\mehmu\\AppData\\Local\\Programs\\Python\\Python39\\lib\\distutils\\dist.py\", line 966, in run_commands\n",
      "      self.run_command(cmd)\n",
      "    File \"C:\\Users\\mehmu\\AppData\\Local\\Programs\\Python\\Python39\\lib\\distutils\\dist.py\", line 985, in run_command\n",
      "      cmd_obj.run()\n",
      "    File \"c:\\users\\mehmu\\pycharmprojects\\pythonproject\\python\\reinforcementlearning\\cartpole\\cartpole\\lib\\site-packages\\wheel\\bdist_wheel.py\", line 299, in run\n",
      "      self.run_command('build')\n",
      "    File \"C:\\Users\\mehmu\\AppData\\Local\\Programs\\Python\\Python39\\lib\\distutils\\cmd.py\", line 313, in run_command\n",
      "      self.distribution.run_command(command)\n",
      "    File \"C:\\Users\\mehmu\\AppData\\Local\\Programs\\Python\\Python39\\lib\\distutils\\dist.py\", line 985, in run_command\n",
      "      cmd_obj.run()\n",
      "    File \"C:\\Users\\mehmu\\AppData\\Local\\Temp\\pip-install-y106ttrt\\mujoco-py_feb197c283d344ffb313e1a3c32dd39c\\setup.py\", line 28, in run\n",
      "      import mujoco_py  # noqa: force build\n",
      "    File \"C:\\Users\\mehmu\\AppData\\Local\\Temp\\pip-install-y106ttrt\\mujoco-py_feb197c283d344ffb313e1a3c32dd39c\\mujoco_py\\__init__.py\", line 3, in <module>\n",
      "      from mujoco_py.builder import cymj, ignore_mujoco_warnings, functions, MujocoException\n",
      "    File \"C:\\Users\\mehmu\\AppData\\Local\\Temp\\pip-install-y106ttrt\\mujoco-py_feb197c283d344ffb313e1a3c32dd39c\\mujoco_py\\builder.py\", line 16, in <module>\n",
      "      from cffi import FFI\n",
      "  ModuleNotFoundError: No module named 'cffi'\n",
      "  ----------------------------------------\n",
      "  ERROR: Failed building wheel for mujoco-py\n",
      "    ERROR: Command errored out with exit status 1:\n",
      "     command: 'c:\\users\\mehmu\\pycharmprojects\\pythonproject\\python\\reinforcementlearning\\cartpole\\cartpole\\scripts\\python.exe' -u -c 'import io, os, sys, setuptools, tokenize; sys.argv[0] = '\"'\"'C:\\\\Users\\\\mehmu\\\\AppData\\\\Local\\\\Temp\\\\pip-install-y106ttrt\\\\mujoco-py_feb197c283d344ffb313e1a3c32dd39c\\\\setup.py'\"'\"'; __file__='\"'\"'C:\\\\Users\\\\mehmu\\\\AppData\\\\Local\\\\Temp\\\\pip-install-y106ttrt\\\\mujoco-py_feb197c283d344ffb313e1a3c32dd39c\\\\setup.py'\"'\"';f = getattr(tokenize, '\"'\"'open'\"'\"', open)(__file__) if os.path.exists(__file__) else io.StringIO('\"'\"'from setuptools import setup; setup()'\"'\"');code = f.read().replace('\"'\"'\\r\\n'\"'\"', '\"'\"'\\n'\"'\"');f.close();exec(compile(code, __file__, '\"'\"'exec'\"'\"'))' install --record 'C:\\Users\\mehmu\\AppData\\Local\\Temp\\pip-record-xs3bcfsd\\install-record.txt' --single-version-externally-managed --compile --install-headers 'c:\\users\\mehmu\\pycharmprojects\\pythonproject\\python\\reinforcementlearning\\cartpole\\cartpole\\include\\site\\python3.9\\mujoco-py'\n",
      "         cwd: C:\\Users\\mehmu\\AppData\\Local\\Temp\\pip-install-y106ttrt\\mujoco-py_feb197c283d344ffb313e1a3c32dd39c\\\n",
      "    Complete output (56 lines):\n",
      "    running install\n",
      "    running build\n",
      "    \n",
      "    You appear to be missing MuJoCo.  We expected to find the file here: C:\\Users\\mehmu\\.mujoco\\mjpro150\n",
      "    \n",
      "    This package only provides python bindings, the library must be installed separately.\n",
      "    \n",
      "    Please follow the instructions on the README to install MuJoCo\n",
      "    \n",
      "        https://github.com/openai/mujoco-py#install-mujoco\n",
      "    \n",
      "    Which can be downloaded from the website\n",
      "    \n",
      "        https://www.roboti.us/index.html\n",
      "    \n",
      "    Traceback (most recent call last):\n",
      "      File \"<string>\", line 1, in <module>\n",
      "      File \"C:\\Users\\mehmu\\AppData\\Local\\Temp\\pip-install-y106ttrt\\mujoco-py_feb197c283d344ffb313e1a3c32dd39c\\setup.py\", line 32, in <module>\n",
      "        setup(\n",
      "      File \"c:\\users\\mehmu\\pycharmprojects\\pythonproject\\python\\reinforcementlearning\\cartpole\\cartpole\\lib\\site-packages\\setuptools\\__init__.py\", line 153, in setup\n",
      "        return distutils.core.setup(**attrs)\n",
      "      File \"C:\\Users\\mehmu\\AppData\\Local\\Programs\\Python\\Python39\\lib\\distutils\\core.py\", line 148, in setup\n",
      "        dist.run_commands()\n",
      "      File \"C:\\Users\\mehmu\\AppData\\Local\\Programs\\Python\\Python39\\lib\\distutils\\dist.py\", line 966, in run_commands\n",
      "        self.run_command(cmd)\n",
      "      File \"C:\\Users\\mehmu\\AppData\\Local\\Programs\\Python\\Python39\\lib\\distutils\\dist.py\", line 985, in run_command\n",
      "        cmd_obj.run()\n",
      "      File \"c:\\users\\mehmu\\pycharmprojects\\pythonproject\\python\\reinforcementlearning\\cartpole\\cartpole\\lib\\site-packages\\setuptools\\command\\install.py\", line 61, in run\n",
      "        return orig.install.run(self)\n",
      "      File \"C:\\Users\\mehmu\\AppData\\Local\\Programs\\Python\\Python39\\lib\\distutils\\command\\install.py\", line 546, in run\n",
      "        self.run_command('build')\n",
      "      File \"C:\\Users\\mehmu\\AppData\\Local\\Programs\\Python\\Python39\\lib\\distutils\\cmd.py\", line 313, in run_command\n",
      "        self.distribution.run_command(command)\n",
      "      File \"C:\\Users\\mehmu\\AppData\\Local\\Programs\\Python\\Python39\\lib\\distutils\\dist.py\", line 985, in run_command\n",
      "        cmd_obj.run()\n",
      "      File \"C:\\Users\\mehmu\\AppData\\Local\\Temp\\pip-install-y106ttrt\\mujoco-py_feb197c283d344ffb313e1a3c32dd39c\\setup.py\", line 28, in run\n",
      "        import mujoco_py  # noqa: force build\n",
      "      File \"C:\\Users\\mehmu\\AppData\\Local\\Temp\\pip-install-y106ttrt\\mujoco-py_feb197c283d344ffb313e1a3c32dd39c\\mujoco_py\\__init__.py\", line 3, in <module>\n",
      "        from mujoco_py.builder import cymj, ignore_mujoco_warnings, functions, MujocoException\n",
      "      File \"C:\\Users\\mehmu\\AppData\\Local\\Temp\\pip-install-y106ttrt\\mujoco-py_feb197c283d344ffb313e1a3c32dd39c\\mujoco_py\\builder.py\", line 502, in <module>\n",
      "        mjpro_path, key_path = discover_mujoco()\n",
      "      File \"C:\\Users\\mehmu\\AppData\\Local\\Temp\\pip-install-y106ttrt\\mujoco-py_feb197c283d344ffb313e1a3c32dd39c\\mujoco_py\\utils.py\", line 93, in discover_mujoco\n",
      "        raise Exception(message)\n",
      "    Exception:\n",
      "    You appear to be missing MuJoCo.  We expected to find the file here: C:\\Users\\mehmu\\.mujoco\\mjpro150\n",
      "    \n",
      "    This package only provides python bindings, the library must be installed separately.\n",
      "    \n",
      "    Please follow the instructions on the README to install MuJoCo\n",
      "    \n",
      "        https://github.com/openai/mujoco-py#install-mujoco\n",
      "    \n",
      "    Which can be downloaded from the website\n",
      "    \n",
      "        https://www.roboti.us/index.html\n",
      "    \n",
      "    ----------------------------------------\n",
      "ERROR: Command errored out with exit status 1: 'c:\\users\\mehmu\\pycharmprojects\\pythonproject\\python\\reinforcementlearning\\cartpole\\cartpole\\scripts\\python.exe' -u -c 'import io, os, sys, setuptools, tokenize; sys.argv[0] = '\"'\"'C:\\\\Users\\\\mehmu\\\\AppData\\\\Local\\\\Temp\\\\pip-install-y106ttrt\\\\mujoco-py_feb197c283d344ffb313e1a3c32dd39c\\\\setup.py'\"'\"'; __file__='\"'\"'C:\\\\Users\\\\mehmu\\\\AppData\\\\Local\\\\Temp\\\\pip-install-y106ttrt\\\\mujoco-py_feb197c283d344ffb313e1a3c32dd39c\\\\setup.py'\"'\"';f = getattr(tokenize, '\"'\"'open'\"'\"', open)(__file__) if os.path.exists(__file__) else io.StringIO('\"'\"'from setuptools import setup; setup()'\"'\"');code = f.read().replace('\"'\"'\\r\\n'\"'\"', '\"'\"'\\n'\"'\"');f.close();exec(compile(code, __file__, '\"'\"'exec'\"'\"'))' install --record 'C:\\Users\\mehmu\\AppData\\Local\\Temp\\pip-record-xs3bcfsd\\install-record.txt' --single-version-externally-managed --compile --install-headers 'c:\\users\\mehmu\\pycharmprojects\\pythonproject\\python\\reinforcementlearning\\cartpole\\cartpole\\include\\site\\python3.9\\mujoco-py' Check the logs for full command output.\n"
     ]
    }
   ],
   "source": [
    "!pip install gym[all]"
   ]
  },
  {
   "cell_type": "markdown",
   "metadata": {},
   "source": [
    "2. Env Test"
   ]
  },
  {
   "cell_type": "code",
   "execution_count": 1,
   "metadata": {},
   "outputs": [
    {
     "name": "stdout",
     "output_type": "stream",
     "text": [
      "Episode:1  Score:10.0\n",
      "Episode:2  Score:12.0\n",
      "Episode:3  Score:16.0\n",
      "Episode:4  Score:45.0\n",
      "Episode:5  Score:12.0\n",
      "Episode:6  Score:11.0\n",
      "Episode:7  Score:33.0\n",
      "Episode:8  Score:17.0\n",
      "Episode:9  Score:13.0\n",
      "Episode:10  Score:61.0\n"
     ]
    }
   ],
   "source": [
    "import gym,random\n",
    "env=gym.make(\"CartPole-v1\")\n",
    "states=env.observation_space.shape[0]\n",
    "actions=env.action_space.n\n",
    "episodes=10\n",
    "for episode in range(1,episodes+1):\n",
    "    state=env.reset()\n",
    "    done=False\n",
    "    score=0\n",
    "\n",
    "    while not done:\n",
    "        env.render()\n",
    "        action=random.choice([0,1])\n",
    "        n_state,reward,done,infor=env.step(action)\n",
    "        score+=reward\n",
    "    print(f\"Episode:{episode}  Score:{score}\")"
   ]
  },
  {
   "cell_type": "markdown",
   "metadata": {},
   "source": [
    "3. Model Oluşturma"
   ]
  },
  {
   "cell_type": "code",
   "execution_count": 8,
   "metadata": {},
   "outputs": [
    {
     "name": "stdout",
     "output_type": "stream",
     "text": [
      "Model: \"sequential_1\"\n",
      "_________________________________________________________________\n",
      "Layer (type)                 Output Shape              Param #   \n",
      "=================================================================\n",
      "flatten_1 (Flatten)          (None, 4)                 0         \n",
      "_________________________________________________________________\n",
      "dense_3 (Dense)              (None, 24)                120       \n",
      "_________________________________________________________________\n",
      "dense_4 (Dense)              (None, 24)                600       \n",
      "_________________________________________________________________\n",
      "dense_5 (Dense)              (None, 2)                 50        \n",
      "=================================================================\n",
      "Total params: 770\n",
      "Trainable params: 770\n",
      "Non-trainable params: 0\n",
      "_________________________________________________________________\n"
     ]
    }
   ],
   "source": [
    "import numpy as np\n",
    "from tensorflow.keras.models import Sequential\n",
    "from tensorflow.keras.layers import Dense,Flatten\n",
    "from tensorflow.keras.optimizers import Adam\n",
    "\n",
    "def build_model(states,actions):\n",
    "    model=Sequential()\n",
    "    model.add(Flatten(input_shape=(1,states)))\n",
    "    model.add(Dense(24,activation='relu'))\n",
    "    model.add(Dense(24,activation='relu'))\n",
    "    model.add(Dense(actions,activation='linear'))\n",
    "    return model\n",
    "model=build_model(states,actions)\n",
    "model.summary()\n"
   ]
  },
  {
   "cell_type": "markdown",
   "metadata": {},
   "source": [
    "4. Agent with Keras-RL"
   ]
  },
  {
   "cell_type": "code",
   "execution_count": 9,
   "metadata": {},
   "outputs": [],
   "source": [
    "from rl.agents import DQNAgent\n",
    "from rl.policy import BoltzmannQPolicy\n",
    "from rl.memory import SequentialMemory"
   ]
  },
  {
   "cell_type": "code",
   "execution_count": 10,
   "metadata": {},
   "outputs": [],
   "source": [
    "def build_agent(model,actions):\n",
    "    policy=BoltzmannQPolicy()\n",
    "    memory=SequentialMemory(limit=50000,window_length=1)\n",
    "    dqn=DQNAgent(model=model,memory=memory,policy=policy,\n",
    "    nb_actions=actions,nb_steps_warmup=10,target_model_update=1e-2)\n",
    "    return dqn"
   ]
  },
  {
   "cell_type": "code",
   "execution_count": 11,
   "metadata": {
    "scrolled": true
   },
   "outputs": [
    {
     "name": "stdout",
     "output_type": "stream",
     "text": [
      "Training for 50000 steps ...\n",
      "Interval 1 (0 steps performed)\n"
     ]
    },
    {
     "name": "stderr",
     "output_type": "stream",
     "text": [
      "C:\\Users\\mehmu\\PycharmProjects\\pythonProject\\Python\\ReinforcementLearning\\CartPole\\cartpole\\lib\\site-packages\\tensorflow\\python\\keras\\engine\\training.py:2426: UserWarning: `Model.state_updates` will be removed in a future version. This property should not be used in TensorFlow 2.0, as `updates` are applied automatically.\n",
      "  warnings.warn('`Model.state_updates` will be removed in a future version. '\n"
     ]
    },
    {
     "name": "stdout",
     "output_type": "stream",
     "text": [
      "\r",
      "    1/10000 [..............................] - ETA: 4:48:33 - reward: 1.0000"
     ]
    },
    {
     "name": "stderr",
     "output_type": "stream",
     "text": [
      "C:\\Users\\mehmu\\PycharmProjects\\pythonProject\\Python\\ReinforcementLearning\\CartPole\\cartpole\\lib\\site-packages\\rl\\memory.py:37: UserWarning: Not enough entries to sample without replacement. Consider increasing your warm-up phase to avoid oversampling!\n",
      "  warnings.warn('Not enough entries to sample without replacement. Consider increasing your warm-up phase to avoid oversampling!')\n"
     ]
    },
    {
     "name": "stdout",
     "output_type": "stream",
     "text": [
      "10000/10000 [==============================] - 75s 7ms/step - reward: 1.0000\n",
      "93 episodes - episode_reward: 106.108 [9.000, 427.000] - loss: 2.004 - mae: 19.858 - mean_q: 40.232\n",
      "\n",
      "Interval 2 (10000 steps performed)\n",
      "10000/10000 [==============================] - 85s 8ms/step - reward: 1.0000\n",
      "43 episodes - episode_reward: 235.140 [179.000, 380.000] - loss: 2.556 - mae: 41.944 - mean_q: 84.760\n",
      "\n",
      "Interval 3 (20000 steps performed)\n",
      "10000/10000 [==============================] - 85s 9ms/step - reward: 1.0000\n",
      "34 episodes - episode_reward: 289.971 [203.000, 492.000] - loss: 1.711 - mae: 45.003 - mean_q: 90.723\n",
      "\n",
      "Interval 4 (30000 steps performed)\n",
      "10000/10000 [==============================] - 83s 8ms/step - reward: 1.0000\n",
      "31 episodes - episode_reward: 324.129 [202.000, 500.000] - loss: 2.177 - mae: 49.037 - mean_q: 98.712\n",
      "\n",
      "Interval 5 (40000 steps performed)\n",
      "10000/10000 [==============================] - 93s 9ms/step - reward: 1.0000\n",
      "done, took 421.018 seconds\n"
     ]
    },
    {
     "data": {
      "text/plain": [
       "<tensorflow.python.keras.callbacks.History at 0x1d91a178e50>"
      ]
     },
     "execution_count": 11,
     "metadata": {},
     "output_type": "execute_result"
    }
   ],
   "source": [
    "dqn=build_agent(model,actions)\n",
    "dqn.compile(Adam(learning_rate=1e-3),metrics=['mae'])\n",
    "dqn.fit(env,nb_steps=50000,visualize=False,verbose=1)"
   ]
  },
  {
   "cell_type": "markdown",
   "metadata": {},
   "source": [
    "5. Agent Reload "
   ]
  },
  {
   "cell_type": "code",
   "execution_count": 12,
   "metadata": {},
   "outputs": [
    {
     "name": "stdout",
     "output_type": "stream",
     "text": [
      "Testing for 100 episodes ...\n",
      "Episode 1: reward: 500.000, steps: 500\n",
      "Episode 2: reward: 500.000, steps: 500\n",
      "Episode 3: reward: 500.000, steps: 500\n",
      "Episode 4: reward: 500.000, steps: 500\n",
      "Episode 5: reward: 500.000, steps: 500\n",
      "Episode 6: reward: 500.000, steps: 500\n",
      "Episode 7: reward: 500.000, steps: 500\n",
      "Episode 8: reward: 500.000, steps: 500\n",
      "Episode 9: reward: 500.000, steps: 500\n",
      "Episode 10: reward: 500.000, steps: 500\n",
      "Episode 11: reward: 500.000, steps: 500\n",
      "Episode 12: reward: 500.000, steps: 500\n",
      "Episode 13: reward: 500.000, steps: 500\n",
      "Episode 14: reward: 500.000, steps: 500\n",
      "Episode 15: reward: 500.000, steps: 500\n",
      "Episode 16: reward: 500.000, steps: 500\n",
      "Episode 17: reward: 500.000, steps: 500\n",
      "Episode 18: reward: 500.000, steps: 500\n",
      "Episode 19: reward: 500.000, steps: 500\n",
      "Episode 20: reward: 500.000, steps: 500\n",
      "Episode 21: reward: 500.000, steps: 500\n",
      "Episode 22: reward: 500.000, steps: 500\n",
      "Episode 23: reward: 500.000, steps: 500\n",
      "Episode 24: reward: 500.000, steps: 500\n",
      "Episode 25: reward: 500.000, steps: 500\n",
      "Episode 26: reward: 500.000, steps: 500\n",
      "Episode 27: reward: 500.000, steps: 500\n",
      "Episode 28: reward: 500.000, steps: 500\n",
      "Episode 29: reward: 500.000, steps: 500\n",
      "Episode 30: reward: 500.000, steps: 500\n",
      "Episode 31: reward: 500.000, steps: 500\n",
      "Episode 32: reward: 500.000, steps: 500\n",
      "Episode 33: reward: 500.000, steps: 500\n",
      "Episode 34: reward: 500.000, steps: 500\n",
      "Episode 35: reward: 500.000, steps: 500\n",
      "Episode 36: reward: 500.000, steps: 500\n",
      "Episode 37: reward: 500.000, steps: 500\n",
      "Episode 38: reward: 500.000, steps: 500\n",
      "Episode 39: reward: 500.000, steps: 500\n",
      "Episode 40: reward: 500.000, steps: 500\n",
      "Episode 41: reward: 500.000, steps: 500\n",
      "Episode 42: reward: 500.000, steps: 500\n",
      "Episode 43: reward: 500.000, steps: 500\n",
      "Episode 44: reward: 500.000, steps: 500\n",
      "Episode 45: reward: 500.000, steps: 500\n",
      "Episode 46: reward: 500.000, steps: 500\n",
      "Episode 47: reward: 500.000, steps: 500\n",
      "Episode 48: reward: 500.000, steps: 500\n",
      "Episode 49: reward: 500.000, steps: 500\n",
      "Episode 50: reward: 500.000, steps: 500\n",
      "Episode 51: reward: 500.000, steps: 500\n",
      "Episode 52: reward: 500.000, steps: 500\n",
      "Episode 53: reward: 500.000, steps: 500\n",
      "Episode 54: reward: 500.000, steps: 500\n",
      "Episode 55: reward: 500.000, steps: 500\n",
      "Episode 56: reward: 500.000, steps: 500\n",
      "Episode 57: reward: 500.000, steps: 500\n",
      "Episode 58: reward: 500.000, steps: 500\n",
      "Episode 59: reward: 500.000, steps: 500\n",
      "Episode 60: reward: 500.000, steps: 500\n",
      "Episode 61: reward: 500.000, steps: 500\n",
      "Episode 62: reward: 500.000, steps: 500\n",
      "Episode 63: reward: 500.000, steps: 500\n",
      "Episode 64: reward: 500.000, steps: 500\n",
      "Episode 65: reward: 500.000, steps: 500\n",
      "Episode 66: reward: 500.000, steps: 500\n",
      "Episode 67: reward: 500.000, steps: 500\n",
      "Episode 68: reward: 500.000, steps: 500\n",
      "Episode 69: reward: 500.000, steps: 500\n",
      "Episode 70: reward: 500.000, steps: 500\n",
      "Episode 71: reward: 500.000, steps: 500\n",
      "Episode 72: reward: 500.000, steps: 500\n",
      "Episode 73: reward: 500.000, steps: 500\n",
      "Episode 74: reward: 500.000, steps: 500\n",
      "Episode 75: reward: 500.000, steps: 500\n",
      "Episode 76: reward: 500.000, steps: 500\n",
      "Episode 77: reward: 500.000, steps: 500\n",
      "Episode 78: reward: 500.000, steps: 500\n",
      "Episode 79: reward: 500.000, steps: 500\n",
      "Episode 80: reward: 500.000, steps: 500\n",
      "Episode 81: reward: 500.000, steps: 500\n",
      "Episode 82: reward: 500.000, steps: 500\n",
      "Episode 83: reward: 500.000, steps: 500\n",
      "Episode 84: reward: 500.000, steps: 500\n",
      "Episode 85: reward: 500.000, steps: 500\n",
      "Episode 86: reward: 500.000, steps: 500\n",
      "Episode 87: reward: 500.000, steps: 500\n",
      "Episode 88: reward: 500.000, steps: 500\n",
      "Episode 89: reward: 500.000, steps: 500\n",
      "Episode 90: reward: 500.000, steps: 500\n",
      "Episode 91: reward: 500.000, steps: 500\n",
      "Episode 92: reward: 500.000, steps: 500\n",
      "Episode 93: reward: 500.000, steps: 500\n",
      "Episode 94: reward: 500.000, steps: 500\n",
      "Episode 95: reward: 500.000, steps: 500\n",
      "Episode 96: reward: 500.000, steps: 500\n",
      "Episode 97: reward: 500.000, steps: 500\n",
      "Episode 98: reward: 500.000, steps: 500\n",
      "Episode 99: reward: 500.000, steps: 500\n",
      "Episode 100: reward: 500.000, steps: 500\n",
      "500.0\n"
     ]
    }
   ],
   "source": [
    "scores=dqn.test(env,nb_episodes=50,visualize=False)\n",
    "print(np.mean(scores.history['episode_reward']))"
   ]
  },
  {
   "cell_type": "code",
   "execution_count": 14,
   "metadata": {},
   "outputs": [
    {
     "name": "stdout",
     "output_type": "stream",
     "text": [
      "Testing for 3 episodes ...\n",
      "Episode 1: reward: 500.000, steps: 500\n",
      "Episode 2: reward: 500.000, steps: 500\n",
      "Episode 3: reward: 500.000, steps: 500\n"
     ]
    }
   ],
   "source": [
    "_=dqn.test(env,nb_episodes=3,visualize=True)"
   ]
  },
  {
   "cell_type": "code",
   "execution_count": 15,
   "metadata": {},
   "outputs": [],
   "source": [
    "dqn.save_weights('dqn_weigths.h5f',overwrite=True)\n"
   ]
  },
  {
   "cell_type": "code",
   "execution_count": 1,
   "metadata": {},
   "outputs": [
    {
     "ename": "NameError",
     "evalue": "name 'dqn' is not defined",
     "output_type": "error",
     "traceback": [
      "\u001b[1;31m---------------------------------------------------------------------------\u001b[0m",
      "\u001b[1;31mNameError\u001b[0m                                 Traceback (most recent call last)",
      "Input \u001b[1;32mIn [1]\u001b[0m, in \u001b[0;36m<module>\u001b[1;34m\u001b[0m\n\u001b[1;32m----> 1\u001b[0m \u001b[43mdqn\u001b[49m\u001b[38;5;241m.\u001b[39mload_weights(\u001b[38;5;124m'\u001b[39m\u001b[38;5;124mdqn_weights.h5f\u001b[39m\u001b[38;5;124m'\u001b[39m)\n\u001b[0;32m      2\u001b[0m _\u001b[38;5;241m=\u001b[39mdqn\u001b[38;5;241m.\u001b[39mtest(env,nb_episodes\u001b[38;5;241m=\u001b[39m\u001b[38;5;241m15\u001b[39m,visualize\u001b[38;5;241m=\u001b[39m\u001b[38;5;28;01mTrue\u001b[39;00m)\n",
      "\u001b[1;31mNameError\u001b[0m: name 'dqn' is not defined"
     ]
    }
   ],
   "source": [
    "env=gym.make(\"CartPole-v1\")\n",
    "states=env.observation_space.shape[0]\n",
    "actions=env.action_space.n\n",
    "episodes=10\n",
    "dqn=build_agent(model,actions)\n",
    "dqn.load_weights('dqn_weights.h5f')\n",
    "_=dqn.test(env,nb_episodes=15,visualize=True)"
   ]
  },
  {
   "cell_type": "code",
   "execution_count": null,
   "metadata": {},
   "outputs": [],
   "source": []
  }
 ],
 "metadata": {
  "interpreter": {
   "hash": "a42dffdd82c4d10c806585a9f3b1586353c560f1bb00e2f628bd23b35740237f"
  },
  "kernelspec": {
   "display_name": "cartpolev",
   "language": "python",
   "name": "cartpolev"
  },
  "language_info": {
   "codemirror_mode": {
    "name": "ipython",
    "version": 3
   },
   "file_extension": ".py",
   "mimetype": "text/x-python",
   "name": "python",
   "nbconvert_exporter": "python",
   "pygments_lexer": "ipython3",
   "version": "3.9.6"
  }
 },
 "nbformat": 4,
 "nbformat_minor": 2
}
